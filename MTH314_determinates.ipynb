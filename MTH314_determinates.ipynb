{
 "cells": [
  {
   "cell_type": "markdown",
   "metadata": {},
   "source": [
    "# TEST D2L Quiz generation library"
   ]
  },
  {
   "cell_type": "code",
   "execution_count": 5,
   "metadata": {},
   "outputs": [],
   "source": [
    "import latex\n",
    "import random\n",
    "\n",
    "latex.latex.usefiles = True\n",
    "random.seed(10)"
   ]
  },
  {
   "cell_type": "markdown",
   "metadata": {},
   "source": [
    "----\n",
    "\n",
    "# Let's make some questions"
   ]
  },
  {
   "cell_type": "code",
   "execution_count": 6,
   "metadata": {
    "scrolled": true
   },
   "outputs": [],
   "source": [
    "import quiz\n",
    "import latex\n",
    "import LinearAlgebra\n",
    "latex.latex.usefiles = False\n",
    "quizlist = []"
   ]
  },
  {
   "cell_type": "code",
   "execution_count": 7,
   "metadata": {
    "scrolled": true
   },
   "outputs": [
    {
     "name": "stdout",
     "output_type": "stream",
     "text": [
      "making random matrix\n",
      "making random matrix\n",
      "making random matrix\n",
      "making random matrix\n",
      "making random matrix\n",
      "making random matrix\n",
      "making random matrix\n",
      "making random matrix\n",
      "making random matrix\n",
      "making random matrix\n",
      "making random matrix\n",
      "making random matrix\n",
      "making random matrix\n",
      "making random matrix\n",
      "making random matrix\n",
      "making random matrix\n",
      "making random matrix\n",
      "making random matrix\n",
      "making random matrix\n",
      "making random matrix\n"
     ]
    }
   ],
   "source": [
    "for i in range(20):\n",
    "    q = LinearAlgebra.determinat_question()\n",
    "    quizlist.append(q)"
   ]
  },
  {
   "cell_type": "code",
   "execution_count": 8,
   "metadata": {},
   "outputs": [
    {
     "name": "stdout",
     "output_type": "stream",
     "text": [
      "Exporting question DeterminateQuestion\n",
      "Exporting question DeterminateQuestion\n",
      "Exporting question DeterminateQuestion\n",
      "Exporting question DeterminateQuestion\n",
      "Exporting question DeterminateQuestion\n",
      "Exporting question DeterminateQuestion\n",
      "Exporting question DeterminateQuestion\n",
      "Exporting question DeterminateQuestion\n",
      "Exporting question DeterminateQuestion\n",
      "Exporting question DeterminateQuestion\n",
      "Exporting question DeterminateQuestion\n",
      "Exporting question DeterminateQuestion\n",
      "Exporting question DeterminateQuestion\n",
      "Exporting question DeterminateQuestion\n",
      "Exporting question DeterminateQuestion\n",
      "Exporting question DeterminateQuestion\n",
      "Exporting question DeterminateQuestion\n",
      "Exporting question DeterminateQuestion\n",
      "Exporting question DeterminateQuestion\n",
      "Exporting question DeterminateQuestion\n"
     ]
    }
   ],
   "source": [
    "import qfile\n",
    "quizfile = 'mth314_Determinate2d.csv'\n",
    "qfile.write(quizlist,quizfile)"
   ]
  },
  {
   "cell_type": "code",
   "execution_count": null,
   "metadata": {},
   "outputs": [],
   "source": []
  }
 ],
 "metadata": {
  "kernelspec": {
   "display_name": "Python 3",
   "language": "python",
   "name": "python3"
  },
  "language_info": {
   "codemirror_mode": {
    "name": "ipython",
    "version": 3
   },
   "file_extension": ".py",
   "mimetype": "text/x-python",
   "name": "python",
   "nbconvert_exporter": "python",
   "pygments_lexer": "ipython3",
   "version": "3.7.6"
  }
 },
 "nbformat": 4,
 "nbformat_minor": 4
}
