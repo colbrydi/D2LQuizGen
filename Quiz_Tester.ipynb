{
 "cells": [
  {
   "cell_type": "markdown",
   "metadata": {},
   "source": [
    "# TEST D2L Quiz generation library\n",
    "\n",
    "This library requires a local installation of latex and may not work on some systems."
   ]
  },
  {
   "cell_type": "code",
   "execution_count": 1,
   "metadata": {},
   "outputs": [],
   "source": [
    "import random\n",
    "import numpy as np\n",
    "\n",
    "random.seed(10)"
   ]
  },
  {
   "cell_type": "code",
   "execution_count": 11,
   "metadata": {},
   "outputs": [],
   "source": [
    "# When developing questions set usefiles to False\n",
    "from d2lquizgen.latex import latex\n",
    "latex.usefiles = False\n",
    "\n",
    "# When exporting to D2L set usefiles to True and rerun the notebook"
   ]
  },
  {
   "cell_type": "markdown",
   "metadata": {},
   "source": [
    "----\n",
    "\n",
    "# Let's make some questions"
   ]
  },
  {
   "cell_type": "code",
   "execution_count": 6,
   "metadata": {},
   "outputs": [
    {
     "data": {
      "text/markdown": [
       "## Basic Question\n",
       "An invertable matrix always has a non-zero determinate?\n",
       "\n",
       " - True **_(CORRECT ANSWER)_** \n",
       " - False\n",
       "\n"
      ],
      "text/plain": [
       "<IPython.core.display.Markdown object>"
      ]
     },
     "execution_count": 6,
     "metadata": {},
     "output_type": "execute_result"
    }
   ],
   "source": [
    "from d2lquizgen import quiz\n",
    "\n",
    "quizlist = []\n",
    "\n",
    "q = quiz.question('Basic Question', \n",
    "                   'An invertable matrix always has a non-zero determinate?', \n",
    "                   Options=['True', 'False'], \n",
    "                   Answers=[100,0])\n",
    "quizlist.append(q)\n",
    "q.preview()"
   ]
  },
  {
   "cell_type": "code",
   "execution_count": 4,
   "metadata": {},
   "outputs": [
    {
     "data": {
      "application/vnd.jupyter.widget-view+json": {
       "model_id": "59e6ca919c0e418c87b2bfb3ba588328",
       "version_major": 2,
       "version_minor": 0
      },
      "text/plain": [
       "Box(children=(Label(value='An invertable matrix always has a non-zero determinate?'), RadioButtons(layout=Layo…"
      ]
     },
     "metadata": {},
     "output_type": "display_data"
    }
   ],
   "source": [
    "#Here is a jupyter widget for the question.\n",
    "# Widgets are a work in progress.\n",
    "q.widget()"
   ]
  },
  {
   "cell_type": "code",
   "execution_count": 7,
   "metadata": {},
   "outputs": [
    {
     "data": {
      "text/markdown": [
       "## Latex Question\n",
       "Is this matrix invertable? $\\left[\\begin{matrix}1.0 & 2.0 & -3.0 & 10.0\\\\2.0 & 4.0 & -6.0 & 20.0\\\\3.4 & -1.0 & -1.0 & 6.0\\end{matrix}\\right]$\n",
       "\n",
       " - Yes\n",
       " - No\n",
       "\n"
      ],
      "text/plain": [
       "<IPython.core.display.Markdown object>"
      ]
     },
     "execution_count": 7,
     "metadata": {},
     "output_type": "execute_result"
    }
   ],
   "source": [
    "tex_matrix = latex([[1, 2, -3, 10],[2, 4, -6, 20], [3.4, -1, -1, 6]])\n",
    "quizlist = []\n",
    "\n",
    "q = quiz.question('Latex Question', \n",
    "                   f'Is this matrix invertable? {tex_matrix}', \n",
    "                   Options=['Yes', 'No'], \n",
    "                   Answers=[0,0])\n",
    "quizlist.append(q)\n",
    "q.preview()"
   ]
  },
  {
   "cell_type": "code",
   "execution_count": null,
   "metadata": {},
   "outputs": [],
   "source": [
    "#Here is a jupyter widget for the question.\n",
    "# Widgets are a work in progress.\n",
    "q.widget()"
   ]
  },
  {
   "cell_type": "code",
   "execution_count": 8,
   "metadata": {},
   "outputs": [
    {
     "data": {
      "text/markdown": [
       "## Latex Question\n",
       "Which statement is the most true regarding matrix A? $A=\\left[\\begin{matrix}1.0 & 2.0 & -3.0\\\\2.0 & 4.0 & -6.0\\\\3.4 & -1.0 & -1.0\\end{matrix}\\right]$\n",
       "\n",
       " - The Matrix is not invertable.\n",
       " - The Determinate is zero.\n",
       " - The Rank is 2\n",
       " - All the above.\n",
       "\n"
      ],
      "text/plain": [
       "<IPython.core.display.Markdown object>"
      ]
     },
     "execution_count": 8,
     "metadata": {},
     "output_type": "execute_result"
    }
   ],
   "source": [
    "tex_matrix = latex([[1, 2, -3],[2, 4, -6], [3.4, -1, -1]], preamble=\"A=\")\n",
    "quizlist = []\n",
    "\n",
    "q = quiz.question('Latex Question', \n",
    "                   f'Which statement is the most true regarding matrix A? {tex_matrix}', \n",
    "                   Options=['The Matrix is not invertable.', 'The Determinate is zero.', \"The Rank is 2\", \"All the above.\"], \n",
    "                   Answers=[0,0,0,0])\n",
    "quizlist.append(q)\n",
    "q.preview()"
   ]
  },
  {
   "cell_type": "code",
   "execution_count": null,
   "metadata": {},
   "outputs": [],
   "source": [
    "#Here is a jupyter widget for the question.\n",
    "# Widgets are a work in progress.\n",
    "q.widget()"
   ]
  },
  {
   "cell_type": "code",
   "execution_count": null,
   "metadata": {
    "scrolled": true
   },
   "outputs": [],
   "source": [
    "from d2lquizgen import LinearAlgebra\n",
    "q2 = LinearAlgebra.determinat_question()\n",
    "quizlist.append(q2)\n",
    "q2.preview()"
   ]
  },
  {
   "cell_type": "code",
   "execution_count": null,
   "metadata": {},
   "outputs": [],
   "source": [
    "q2.widget()"
   ]
  },
  {
   "cell_type": "code",
   "execution_count": null,
   "metadata": {
    "scrolled": true
   },
   "outputs": [],
   "source": [
    "ss = LinearAlgebra.solve_system_question()\n",
    "quizlist.append(ss)\n",
    "ss.preview()"
   ]
  },
  {
   "cell_type": "code",
   "execution_count": null,
   "metadata": {},
   "outputs": [],
   "source": [
    "\n",
    "A = np.matrix([[8,-10], [-4,4]])\n",
    "b = np.matrix([[5],[0]])\n",
    "x = np.linalg.solve(A,b)"
   ]
  },
  {
   "cell_type": "code",
   "execution_count": null,
   "metadata": {},
   "outputs": [],
   "source": [
    "x"
   ]
  },
  {
   "cell_type": "code",
   "execution_count": null,
   "metadata": {},
   "outputs": [],
   "source": [
    "ss.widget()"
   ]
  },
  {
   "cell_type": "code",
   "execution_count": null,
   "metadata": {},
   "outputs": [],
   "source": [
    "q4 = LinearAlgebra.vector_in_nullspace_question(0,1,[0,1],False)\n",
    "quizlist.append(q4)\n",
    "q4.preview()\n"
   ]
  },
  {
   "cell_type": "code",
   "execution_count": null,
   "metadata": {},
   "outputs": [],
   "source": [
    "q4.widget()"
   ]
  },
  {
   "cell_type": "markdown",
   "metadata": {},
   "source": [
    "------\n",
    "\n",
    "# Test export of quiz"
   ]
  },
  {
   "cell_type": "code",
   "execution_count": null,
   "metadata": {},
   "outputs": [],
   "source": [
    "from d2lquizgen import qfile\n",
    "quizfile = 'quizfile.csv'\n",
    "qfile.write(quizlist,quizfile)"
   ]
  },
  {
   "cell_type": "markdown",
   "metadata": {},
   "source": [
    "----\n",
    "\n",
    "# Test full csv file import\n"
   ]
  },
  {
   "cell_type": "code",
   "execution_count": null,
   "metadata": {},
   "outputs": [],
   "source": [
    "from d2lquizgen import qfile\n",
    "questions = qfile.read(quizfile)"
   ]
  },
  {
   "cell_type": "code",
   "execution_count": 10,
   "metadata": {},
   "outputs": [],
   "source": []
  },
  {
   "cell_type": "code",
   "execution_count": null,
   "metadata": {},
   "outputs": [],
   "source": []
  },
  {
   "cell_type": "code",
   "execution_count": null,
   "metadata": {},
   "outputs": [],
   "source": []
  },
  {
   "cell_type": "code",
   "execution_count": 9,
   "metadata": {},
   "outputs": [],
   "source": [
    "quiz.question?"
   ]
  },
  {
   "cell_type": "code",
   "execution_count": null,
   "metadata": {},
   "outputs": [],
   "source": []
  }
 ],
 "metadata": {
  "kernelspec": {
   "display_name": "Python 3",
   "language": "python",
   "name": "python3"
  },
  "language_info": {
   "codemirror_mode": {
    "name": "ipython",
    "version": 3
   },
   "file_extension": ".py",
   "mimetype": "text/x-python",
   "name": "python",
   "nbconvert_exporter": "python",
   "pygments_lexer": "ipython3",
   "version": "3.7.6"
  }
 },
 "nbformat": 4,
 "nbformat_minor": 4
}
