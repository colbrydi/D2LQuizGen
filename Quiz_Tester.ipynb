{
 "cells": [
  {
   "cell_type": "markdown",
   "metadata": {},
   "source": [
    "# TEST D2L Quiz generation library\n",
    "\n",
    "This library requires a local installation of latex and may not work on some systems."
   ]
  },
  {
   "cell_type": "code",
   "execution_count": 1,
   "metadata": {},
   "outputs": [],
   "source": [
    "import random\n",
    "import numpy as np\n",
    "\n",
    "random.seed(10)"
   ]
  },
  {
   "cell_type": "code",
   "execution_count": 2,
   "metadata": {},
   "outputs": [],
   "source": [
    "# When developing questions set usefiles to False\n",
    "from d2lquizgen.latex import latex\n",
    "latex.usefiles = False\n",
    "\n",
    "# When exporting to D2L set usefiles to True and rerun the notebook"
   ]
  },
  {
   "cell_type": "markdown",
   "metadata": {},
   "source": [
    "----\n",
    "\n",
    "# Let's make some questions"
   ]
  },
  {
   "cell_type": "code",
   "execution_count": 3,
   "metadata": {},
   "outputs": [
    {
     "data": {
      "text/markdown": [
       "## Basic Question\n",
       "An invertable matrix always has a non-zero determinate?\n",
       "\n",
       " - True **_(CORRECT ANSWER)_** \n",
       " - False\n",
       "\n"
      ],
      "text/plain": [
       "<IPython.core.display.Markdown object>"
      ]
     },
     "execution_count": 3,
     "metadata": {},
     "output_type": "execute_result"
    }
   ],
   "source": [
    "from d2lquizgen import quiz\n",
    "\n",
    "quizlist = []\n",
    "\n",
    "q = quiz.question('Basic Question', \n",
    "                   'An invertable matrix always has a non-zero determinate?', \n",
    "                   Options=['True', 'False'], \n",
    "                   Answers=[100,0])\n",
    "quizlist.append(q)\n",
    "q.preview()"
   ]
  },
  {
   "cell_type": "code",
   "execution_count": 4,
   "metadata": {},
   "outputs": [
    {
     "data": {
      "application/vnd.jupyter.widget-view+json": {
       "model_id": "be46de041a824cf29f927e637ce48384",
       "version_major": 2,
       "version_minor": 0
      },
      "text/plain": [
       "Box(children=(Label(value='An invertable matrix always has a non-zero determinate?'), RadioButtons(layout=Layo…"
      ]
     },
     "metadata": {},
     "output_type": "display_data"
    }
   ],
   "source": [
    "#Here is a jupyter widget for the question.\n",
    "# Widgets are a work in progress.\n",
    "q.widget()"
   ]
  },
  {
   "cell_type": "code",
   "execution_count": 5,
   "metadata": {},
   "outputs": [
    {
     "data": {
      "text/markdown": [
       "## Latex Question\n",
       "Is this matrix invertable? $\\left[\\begin{matrix}1.0 & 2.0 & -3.0 & 10.0\\\\2.0 & 4.0 & -6.0 & 20.0\\\\3.4 & -1.0 & -1.0 & 6.0\\end{matrix}\\right]$\n",
       "\n",
       " - Yes\n",
       " - No\n",
       "\n"
      ],
      "text/plain": [
       "<IPython.core.display.Markdown object>"
      ]
     },
     "execution_count": 5,
     "metadata": {},
     "output_type": "execute_result"
    }
   ],
   "source": [
    "tex_matrix = latex([[1, 2, -3, 10],[2, 4, -6, 20], [3.4, -1, -1, 6]])\n",
    "quizlist = []\n",
    "\n",
    "q = quiz.question('Latex Question', \n",
    "                   f'Is this matrix invertable? {tex_matrix}', \n",
    "                   Options=['Yes', 'No'], \n",
    "                   Answers=[0,0])\n",
    "quizlist.append(q)\n",
    "q.preview()"
   ]
  },
  {
   "cell_type": "code",
   "execution_count": 6,
   "metadata": {},
   "outputs": [
    {
     "data": {
      "application/vnd.jupyter.widget-view+json": {
       "model_id": "219a44341d4a40109e2bc0cfe3c853f6",
       "version_major": 2,
       "version_minor": 0
      },
      "text/plain": [
       "Box(children=(Label(value='Is this matrix invertable? $\\\\left[\\\\begin{matrix}1.0 & 2.0 & -3.0 & 10.0\\\\\\\\2.0 & …"
      ]
     },
     "metadata": {},
     "output_type": "display_data"
    }
   ],
   "source": [
    "#Here is a jupyter widget for the question.\n",
    "# Widgets are a work in progress.\n",
    "q.widget()"
   ]
  },
  {
   "cell_type": "code",
   "execution_count": 20,
   "metadata": {},
   "outputs": [
    {
     "data": {
      "text/markdown": [
       "## Latex Question\n",
       "Which statement is the most true regarding matrix A? $A=\\left[\\begin{matrix}1.0 & 2.0 & -3.0\\\\2.0 & 4.0 & -6.0\\\\3.4 & -1.0 & -1.0\\end{matrix}\\right]$\n",
       "\n",
       " - The Matrix is not invertable.\n",
       " - The Determinate is zero.\n",
       " - The Rank is 2\n",
       " - All the above.\n",
       "\n"
      ],
      "text/plain": [
       "<IPython.core.display.Markdown object>"
      ]
     },
     "execution_count": 20,
     "metadata": {},
     "output_type": "execute_result"
    }
   ],
   "source": [
    "tex_matrix = latex([[1, 2, -3],[2, 4, -6], [3.4, -1, -1]], preamble=\"A=\")\n",
    "quizlist = []\n",
    "\n",
    "q = quiz.question('Latex Question', \n",
    "                   f'Which statement is the most true regarding matrix A? {tex_matrix}', \n",
    "                   Options=['The Matrix is not invertable.', 'The Determinate is zero.', \"The Rank is 2\", \"All the above.\"], \n",
    "                   Answers=[0,0,0,0])\n",
    "quizlist.append(q)\n",
    "q.preview()"
   ]
  },
  {
   "cell_type": "code",
   "execution_count": 21,
   "metadata": {},
   "outputs": [
    {
     "data": {
      "application/vnd.jupyter.widget-view+json": {
       "model_id": "8a6908f4a6004f2dba187b97087fb3b0",
       "version_major": 2,
       "version_minor": 0
      },
      "text/plain": [
       "Box(children=(Label(value='Which statement is the most true regarding matrix A? $A=\\\\left[\\\\begin{matrix}1.0 &…"
      ]
     },
     "metadata": {},
     "output_type": "display_data"
    }
   ],
   "source": [
    "#Here is a jupyter widget for the question.\n",
    "# Widgets are a work in progress.\n",
    "q.widget()"
   ]
  },
  {
   "cell_type": "code",
   "execution_count": 7,
   "metadata": {
    "scrolled": true
   },
   "outputs": [
    {
     "name": "stdout",
     "output_type": "stream",
     "text": [
      "making random matrix\n"
     ]
    },
    {
     "data": {
      "text/markdown": [
       "## DeterminateQuestion\n",
       "<p>Find the determinant of the matrix below.</p> $\\left[\\begin{matrix}8 & -9\\\\3 & 5\\end{matrix}\\right]$\n",
       "\n",
       "np.matrix([[8,-9,[3, 5]])\n",
       "\n",
       " - determinant = 67 **_(CORRECT ANSWER)_** \n",
       " - determinant = 49\n",
       " - determinant = -67\n",
       " - determinant = -56\n",
       "\n"
      ],
      "text/plain": [
       "<IPython.core.display.Markdown object>"
      ]
     },
     "execution_count": 7,
     "metadata": {},
     "output_type": "execute_result"
    }
   ],
   "source": [
    "from d2lquizgen import LinearAlgebra\n",
    "q2 = LinearAlgebra.determinat_question()\n",
    "quizlist.append(q2)\n",
    "q2.preview()"
   ]
  },
  {
   "cell_type": "code",
   "execution_count": 8,
   "metadata": {},
   "outputs": [
    {
     "data": {
      "application/vnd.jupyter.widget-view+json": {
       "model_id": "d687740c54b147da86e7c02168284564",
       "version_major": 2,
       "version_minor": 0
      },
      "text/plain": [
       "Box(children=(Label(value='<p>Find the determinant of the matrix below.</p> $\\\\left[\\\\begin{matrix}8 & -9\\\\\\\\3…"
      ]
     },
     "metadata": {},
     "output_type": "display_data"
    }
   ],
   "source": [
    "q2.widget()"
   ]
  },
  {
   "cell_type": "code",
   "execution_count": 9,
   "metadata": {
    "scrolled": true
   },
   "outputs": [
    {
     "name": "stdout",
     "output_type": "stream",
     "text": [
      "making random matrix\n",
      "making random matrix\n",
      "Solution = [[ 0. ]\n",
      " [-0.5]]\n"
     ]
    },
    {
     "data": {
      "text/markdown": [
       "## SolveSystemQ\n",
       "Solve the following system of equations.$\\begin{array}{rl}8x_0-10x_1&=5.00 \\\\-4x_0+4x_1&=-2.00 \\\\ \\end{array}$\n",
       "\n",
       "\n",
       "\n",
       " - $x_0=-5.00 \\quad x_1=9.06 \\quad $\n",
       " - $x_0=3.07 \\quad x_1=-6.80 \\quad $\n",
       " - $x_0=0.00 \\quad x_1=-0.50 \\quad $ **_(CORRECT ANSWER)_** \n",
       " - $x_0=0.41 \\quad x_1=-3.44 \\quad $\n",
       "\n"
      ],
      "text/plain": [
       "<IPython.core.display.Markdown object>"
      ]
     },
     "execution_count": 9,
     "metadata": {},
     "output_type": "execute_result"
    }
   ],
   "source": [
    "ss = LinearAlgebra.solve_system_question()\n",
    "quizlist.append(ss)\n",
    "ss.preview()"
   ]
  },
  {
   "cell_type": "code",
   "execution_count": 10,
   "metadata": {},
   "outputs": [],
   "source": [
    "\n",
    "A = np.matrix([[8,-10], [-4,4]])\n",
    "b = np.matrix([[5],[0]])\n",
    "x = np.linalg.solve(A,b)"
   ]
  },
  {
   "cell_type": "code",
   "execution_count": 11,
   "metadata": {},
   "outputs": [
    {
     "data": {
      "text/plain": [
       "matrix([[-2.5],\n",
       "        [-2.5]])"
      ]
     },
     "execution_count": 11,
     "metadata": {},
     "output_type": "execute_result"
    }
   ],
   "source": [
    "x"
   ]
  },
  {
   "cell_type": "code",
   "execution_count": 12,
   "metadata": {},
   "outputs": [
    {
     "data": {
      "application/vnd.jupyter.widget-view+json": {
       "model_id": "ae1061bb8bec4193a0b8f442d69f4fc6",
       "version_major": 2,
       "version_minor": 0
      },
      "text/plain": [
       "Box(children=(Label(value='Solve the following system of equations.$\\\\begin{array}{rl}8x_0-10x_1&=5.00 \\\\\\\\-4x…"
      ]
     },
     "metadata": {},
     "output_type": "display_data"
    }
   ],
   "source": [
    "ss.widget()"
   ]
  },
  {
   "cell_type": "code",
   "execution_count": 13,
   "metadata": {},
   "outputs": [
    {
     "data": {
      "text/markdown": [
       "## NullspaceQ0\n",
       "Is the vector v in the nullspace of the matrix A?. $A=$ $v=\\left[\\begin{matrix}0\\\\1\\end{matrix}\\right]$\n",
       "\n",
       " - Yes\n",
       " - No **_(CORRECT ANSWER)_** \n",
       "\n"
      ],
      "text/plain": [
       "<IPython.core.display.Markdown object>"
      ]
     },
     "execution_count": 13,
     "metadata": {},
     "output_type": "execute_result"
    }
   ],
   "source": [
    "q4 = LinearAlgebra.vector_in_nullspace_question(0,1,[0,1],False)\n",
    "quizlist.append(q4)\n",
    "q4.preview()\n"
   ]
  },
  {
   "cell_type": "code",
   "execution_count": 14,
   "metadata": {},
   "outputs": [
    {
     "data": {
      "application/vnd.jupyter.widget-view+json": {
       "model_id": "5be3a69e9b5e4b67a201f046c824dd3a",
       "version_major": 2,
       "version_minor": 0
      },
      "text/plain": [
       "Box(children=(Label(value='Is the vector v in the nullspace of the matrix A?. $A=$ $v=\\\\left[\\\\begin{matrix}0\\…"
      ]
     },
     "metadata": {},
     "output_type": "display_data"
    }
   ],
   "source": [
    "q4.widget()"
   ]
  },
  {
   "cell_type": "markdown",
   "metadata": {},
   "source": [
    "------\n",
    "\n",
    "# Test export of quiz"
   ]
  },
  {
   "cell_type": "code",
   "execution_count": 15,
   "metadata": {},
   "outputs": [
    {
     "name": "stdout",
     "output_type": "stream",
     "text": [
      "Exporting question Latex Question\n",
      "Exporting question DeterminateQuestion\n",
      "Exporting question SolveSystemQ\n",
      "Exporting question NullspaceQ0\n"
     ]
    }
   ],
   "source": [
    "from d2lquizgen import qfile\n",
    "quizfile = 'quizfile.csv'\n",
    "qfile.write(quizlist,quizfile)"
   ]
  },
  {
   "cell_type": "markdown",
   "metadata": {},
   "source": [
    "----\n",
    "\n",
    "# Test full csv file import\n"
   ]
  },
  {
   "cell_type": "code",
   "execution_count": 16,
   "metadata": {},
   "outputs": [
    {
     "name": "stdout",
     "output_type": "stream",
     "text": [
      "new question\n",
      "new question\n",
      "new question\n",
      "new question\n"
     ]
    }
   ],
   "source": [
    "from d2lquizgen import qfile\n",
    "questions = qfile.read(quizfile)"
   ]
  },
  {
   "cell_type": "code",
   "execution_count": null,
   "metadata": {},
   "outputs": [],
   "source": []
  },
  {
   "cell_type": "code",
   "execution_count": null,
   "metadata": {},
   "outputs": [],
   "source": []
  },
  {
   "cell_type": "code",
   "execution_count": null,
   "metadata": {},
   "outputs": [],
   "source": []
  },
  {
   "cell_type": "code",
   "execution_count": null,
   "metadata": {},
   "outputs": [],
   "source": []
  }
 ],
 "metadata": {
  "kernelspec": {
   "display_name": "Python 3",
   "language": "python",
   "name": "python3"
  },
  "language_info": {
   "codemirror_mode": {
    "name": "ipython",
    "version": 3
   },
   "file_extension": ".py",
   "mimetype": "text/x-python",
   "name": "python",
   "nbconvert_exporter": "python",
   "pygments_lexer": "ipython3",
   "version": "3.7.6"
  }
 },
 "nbformat": 4,
 "nbformat_minor": 4
}
